{
 "cells": [
  {
   "cell_type": "code",
   "execution_count": 1,
   "metadata": {},
   "outputs": [],
   "source": [
    "# Useful starting lines\n",
    "%matplotlib inline\n",
    "import numpy as np\n",
    "import matplotlib.pyplot as plt\n",
    "%load_ext autoreload\n",
    "%autoreload 2"
   ]
  },
  {
   "cell_type": "markdown",
   "metadata": {},
   "source": [
    "# Load the data"
   ]
  },
  {
   "cell_type": "code",
   "execution_count": 10,
   "metadata": {},
   "outputs": [],
   "source": [
    "from proj1_helpers import *\n",
    "\n",
    "DATA_TRAIN_PATH = 'train.csv' # TODO: download train data and supply path here \n",
    "y, tX, ids = load_csv_data(DATA_TRAIN_PATH)\n",
    "tX = np.c_[np.ones(len(y)), tX]"
   ]
  },
  {
   "cell_type": "code",
   "execution_count": 13,
   "metadata": {},
   "outputs": [
    {
     "name": "stdout",
     "output_type": "stream",
     "text": [
      "y :  [ 1. -1. -1. ...  1. -1. -1.]\n",
      "(250000,)\n",
      "tX :  [[ 1.00000e+00  1.38470e+02  5.16550e+01  9.78270e+01  2.79800e+01\n",
      "   9.10000e-01  1.24711e+02  2.66600e+00  3.06400e+00  4.19280e+01\n",
      "   1.97760e+02  1.58200e+00  1.39600e+00  2.00000e-01  3.26380e+01\n",
      "   1.01700e+00  3.81000e-01  5.16260e+01  2.27300e+00 -2.41400e+00\n",
      "   1.68240e+01 -2.77000e-01  2.58733e+02  2.00000e+00  6.74350e+01\n",
      "   2.15000e+00  4.44000e-01  4.60620e+01  1.24000e+00 -2.47500e+00\n",
      "   1.13497e+02]\n",
      " [ 1.00000e+00  1.60937e+02  6.87680e+01  1.03235e+02  4.81460e+01\n",
      "  -9.99000e+02 -9.99000e+02 -9.99000e+02  3.47300e+00  2.07800e+00\n",
      "   1.25157e+02  8.79000e-01  1.41400e+00 -9.99000e+02  4.20140e+01\n",
      "   2.03900e+00 -3.01100e+00  3.69180e+01  5.01000e-01  1.03000e-01\n",
      "   4.47040e+01 -1.91600e+00  1.64546e+02  1.00000e+00  4.62260e+01\n",
      "   7.25000e-01  1.15800e+00 -9.99000e+02 -9.99000e+02 -9.99000e+02\n",
      "   4.62260e+01]\n",
      " [ 1.00000e+00 -9.99000e+02  1.62172e+02  1.25953e+02  3.56350e+01\n",
      "  -9.99000e+02 -9.99000e+02 -9.99000e+02  3.14800e+00  9.33600e+00\n",
      "   1.97814e+02  3.77600e+00  1.41400e+00 -9.99000e+02  3.21540e+01\n",
      "  -7.05000e-01 -2.09300e+00  1.21409e+02 -9.53000e-01  1.05200e+00\n",
      "   5.42830e+01 -2.18600e+00  2.60414e+02  1.00000e+00  4.42510e+01\n",
      "   2.05300e+00 -2.02800e+00 -9.99000e+02 -9.99000e+02 -9.99000e+02\n",
      "   4.42510e+01]]\n",
      "(250000, 31)\n",
      "ids :  [100000 100001 100002 ... 349997 349998 349999]\n",
      "(250000,)\n"
     ]
    }
   ],
   "source": [
    "print('y : ', y)\n",
    "print(y.shape)\n",
    "print('tX : ', tX[:3,])\n",
    "print(tX.shape)\n",
    "print('ids : ', ids)\n",
    "print(ids.shape)"
   ]
  },
  {
   "cell_type": "markdown",
   "metadata": {},
   "source": [
    "# Pre-processing"
   ]
  },
  {
   "cell_type": "code",
   "execution_count": null,
   "metadata": {},
   "outputs": [],
   "source": []
  }
 ],
 "metadata": {
  "kernelspec": {
   "display_name": "Python 3",
   "language": "python",
   "name": "python3"
  },
  "language_info": {
   "codemirror_mode": {
    "name": "ipython",
    "version": 3
   },
   "file_extension": ".py",
   "mimetype": "text/x-python",
   "name": "python",
   "nbconvert_exporter": "python",
   "pygments_lexer": "ipython3",
   "version": "3.7.6"
  }
 },
 "nbformat": 4,
 "nbformat_minor": 5
}
